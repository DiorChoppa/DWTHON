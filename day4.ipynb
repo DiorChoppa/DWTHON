{
  "nbformat": 4,
  "nbformat_minor": 5,
  "metadata": {
    "kernelspec": {
      "display_name": "Python 3",
      "language": "python",
      "name": "python3"
    },
    "language_info": {
      "codemirror_mode": {
        "name": "ipython",
        "version": 3
      },
      "file_extension": ".py",
      "mimetype": "text/x-python",
      "name": "python",
      "nbconvert_exporter": "python",
      "pygments_lexer": "ipython3",
      "version": "3.8.6"
    },
    "colab": {
      "name": "day4.ipynb",
      "provenance": []
    }
  },
  "cells": [
    {
      "cell_type": "markdown",
      "metadata": {
        "id": "straight-evaluation"
      },
      "source": [
        "## Библиотеки\n",
        "\n",
        "Нам нужны следующие библиотеки:\n",
        "- `pandas` - с этой уже знакомы, правда?\n",
        "- `DecisionTreeClassifier` - для обучения модели (решения)\n",
        "- `sklearn.model_selection` - для проверки (валидации) модели \n",
        "- `gc` прямой вызов \"уборщика\", чтобы освободить память от \"мусора\" (RAM)"
      ],
      "id": "straight-evaluation"
    },
    {
      "cell_type": "code",
      "metadata": {
        "id": "operational-birmingham"
      },
      "source": [
        "import pandas as pd\n",
        "import numpy as np\n",
        " \n",
        "from sklearn.tree import DecisionTreeClassifier\n",
        "from sklearn.model_selection import cross_val_score, GroupKFold\n",
        "\n",
        "import gc"
      ],
      "id": "operational-birmingham",
      "execution_count": null,
      "outputs": []
    },
    {
      "cell_type": "markdown",
      "metadata": {
        "id": "possible-occasion"
      },
      "source": [
        "## Загрузим данные\n",
        "\n",
        "Здесь без изменений."
      ],
      "id": "possible-occasion"
    },
    {
      "cell_type": "code",
      "metadata": {
        "id": "social-coordinator",
        "outputId": "fc8a7c7d-1842-4849-9e34-23d170bd363c"
      },
      "source": [
        "df = pd.read_hdf(\"../input/data.h5\")\n",
        "\n",
        "print(df.shape)\n",
        "df.sample(5)"
      ],
      "id": "social-coordinator",
      "execution_count": null,
      "outputs": [
        {
          "name": "stdout",
          "output_type": "stream",
          "text": [
            "(820906, 9)\n"
          ]
        },
        {
          "data": {
            "text/html": [
              "<div>\n",
              "<style scoped>\n",
              "    .dataframe tbody tr th:only-of-type {\n",
              "        vertical-align: middle;\n",
              "    }\n",
              "\n",
              "    .dataframe tbody tr th {\n",
              "        vertical-align: top;\n",
              "    }\n",
              "\n",
              "    .dataframe thead th {\n",
              "        text-align: right;\n",
              "    }\n",
              "</style>\n",
              "<table border=\"1\" class=\"dataframe\">\n",
              "  <thead>\n",
              "    <tr style=\"text-align: right;\">\n",
              "      <th></th>\n",
              "      <th>order_id</th>\n",
              "      <th>customer_id</th>\n",
              "      <th>product_id</th>\n",
              "      <th>quantity</th>\n",
              "      <th>price_unit</th>\n",
              "      <th>price_total</th>\n",
              "      <th>country_id</th>\n",
              "      <th>order_date</th>\n",
              "      <th>is_canceled</th>\n",
              "    </tr>\n",
              "  </thead>\n",
              "  <tbody>\n",
              "    <tr>\n",
              "      <th>215576</th>\n",
              "      <td>15138</td>\n",
              "      <td>1048</td>\n",
              "      <td>1019</td>\n",
              "      <td>24</td>\n",
              "      <td>39</td>\n",
              "      <td>936</td>\n",
              "      <td>0</td>\n",
              "      <td>2011-08-15 09:57:00</td>\n",
              "      <td>False</td>\n",
              "    </tr>\n",
              "    <tr>\n",
              "      <th>134395</th>\n",
              "      <td>9498</td>\n",
              "      <td>66</td>\n",
              "      <td>824</td>\n",
              "      <td>6</td>\n",
              "      <td>1275</td>\n",
              "      <td>7650</td>\n",
              "      <td>6</td>\n",
              "      <td>2011-05-16 13:20:00</td>\n",
              "      <td>False</td>\n",
              "    </tr>\n",
              "    <tr>\n",
              "      <th>721986</th>\n",
              "      <td>47261</td>\n",
              "      <td>307</td>\n",
              "      <td>663</td>\n",
              "      <td>3</td>\n",
              "      <td>42</td>\n",
              "      <td>126</td>\n",
              "      <td>0</td>\n",
              "      <td>2010-10-17 16:16:00</td>\n",
              "      <td>False</td>\n",
              "    </tr>\n",
              "    <tr>\n",
              "      <th>344684</th>\n",
              "      <td>22105</td>\n",
              "      <td>66</td>\n",
              "      <td>144</td>\n",
              "      <td>12</td>\n",
              "      <td>85</td>\n",
              "      <td>1020</td>\n",
              "      <td>6</td>\n",
              "      <td>2011-11-11 12:52:00</td>\n",
              "      <td>False</td>\n",
              "    </tr>\n",
              "    <tr>\n",
              "      <th>537825</th>\n",
              "      <td>34788</td>\n",
              "      <td>775</td>\n",
              "      <td>280</td>\n",
              "      <td>12</td>\n",
              "      <td>165</td>\n",
              "      <td>1980</td>\n",
              "      <td>0</td>\n",
              "      <td>2010-04-26 18:06:00</td>\n",
              "      <td>False</td>\n",
              "    </tr>\n",
              "  </tbody>\n",
              "</table>\n",
              "</div>"
            ],
            "text/plain": [
              "        order_id  customer_id  product_id  quantity  price_unit  price_total  \\\n",
              "215576     15138         1048        1019        24          39          936   \n",
              "134395      9498           66         824         6        1275         7650   \n",
              "721986     47261          307         663         3          42          126   \n",
              "344684     22105           66         144        12          85         1020   \n",
              "537825     34788          775         280        12         165         1980   \n",
              "\n",
              "        country_id          order_date  is_canceled  \n",
              "215576           0 2011-08-15 09:57:00        False  \n",
              "134395           6 2011-05-16 13:20:00        False  \n",
              "721986           0 2010-10-17 16:16:00        False  \n",
              "344684           6 2011-11-11 12:52:00        False  \n",
              "537825           0 2010-04-26 18:06:00        False  "
            ]
          },
          "execution_count": 2,
          "metadata": {},
          "output_type": "execute_result"
        }
      ]
    },
    {
      "cell_type": "markdown",
      "metadata": {
        "id": "gorgeous-fraud"
      },
      "source": [
        "## 🎯 Целевая переменная\n",
        "\n",
        "Нам нужно определить, что мы хотим прогнозировать. Мы можем прогнозировать разные вещи, а модель машинного обучения с радостью нам в этом \"постарается\" помочь. Однако мы должны показать нашей модели, чего мы хотим достигнуть! Можешь думать так: *машинное обучение* (ML) - такая золотая рыбка 🐡 (алладин или другой волшебный персонаж), которая пытается выполнить то, что мы хотим, но нам нужно знать, чего мы хотим :). На самом деле - это довольно-таки трудная задача! И правильно сформулировать задачу -  это уже половина или даже более успеха. \n",
        "\n",
        "\n",
        "Эйншнтейн как-то сказал:\n",
        "<blockquote>\n",
        "Если бы мне дали час на решение задачи, от которой зависела бы моя жизнь, то 55 минут я бы потратил на то, чтобы точно сформулировать вопрос. А для того, чтобы ответить правильно на поставленный вопрос, мне нужно не больше пяти минут.    \n",
        "</blockquote>\n",
        "\n",
        "\n",
        "Именно поэтому в предыдущие дни мы \"копались\" в данных, чтобы найти что-то интересное, с точки зрения эффективности решения и ценностей. Одна из задач может быть сформулирована так:\n",
        "\n",
        "предположим, для начала мы хотим предсказать, принадлежит ли клиент \"X\" к сегменту `most_revenue_customer` (т.е. группа около 20% клиентов, которая дает около 80% дохода). \n",
        "Наша целевая переменная будет - `is_top_customer` и значения в ней будут: да (`True`) или нет (`False`).\n",
        "Чтобы просчитать - нам нужно снова создать набор `top_customers` (как мы это делали недавно)."
      ],
      "id": "gorgeous-fraud"
    },
    {
      "cell_type": "code",
      "metadata": {
        "id": "miniature-group",
        "outputId": "5c792b20-05a0-4de6-8393-09c4c19df389"
      },
      "source": [
        "df_customers = (\n",
        "    df[ [\"price_total\", \"customer_id\"] ]\n",
        "    .groupby(\"customer_id\")\n",
        "    .agg(\"sum\")\n",
        "    .reset_index()\n",
        "    .sort_values(by=\"price_total\", ascending=False)\n",
        "    .rename(columns={\"price_total\": \"customer_price_total\"})\n",
        ")\n",
        "\n",
        "\n",
        "df_customers[\"cumsum\"] = df_customers[\"customer_price_total\"].cumsum()\n",
        "value_80prc = int(df[\"price_total\"].sum() * 0.8)\n",
        "df_customers[\"most_revenue_customer\"] = df_customers[\"cumsum\"] < value_80prc\n",
        "\n",
        "\n",
        "top_customers = set(df_customers[ df_customers[\"most_revenue_customer\"] ][\"customer_id\"].unique())\n",
        "\n",
        "del df_customers\n",
        "gc.collect()"
      ],
      "id": "miniature-group",
      "execution_count": null,
      "outputs": [
        {
          "data": {
            "text/plain": [
              "0"
            ]
          },
          "execution_count": 3,
          "metadata": {},
          "output_type": "execute_result"
        }
      ]
    },
    {
      "cell_type": "markdown",
      "metadata": {
        "id": "smoking-hampton"
      },
      "source": [
        "Основной код с предыдущего дня. Но немного повторим.\n",
        "\n",
        "\n",
        "```\n",
        "df_customers = (\n",
        "    df[ [\"price_total\", \"customer_id\"] ]\n",
        "    .groupby(\"customer_id\")\n",
        "    .agg(\"sum\")\n",
        "    .reset_index()\n",
        "    .sort_values(by=\"price_total\", ascending=False)\n",
        "    .rename(columns={\"price_total\": \"customer_price_total\"})\n",
        ")\n",
        "```\n",
        "\n",
        "1. `df[ [\"price_total\", \"customer_id\"] ]` - берем из `DataFrame` два интересующих нас столбца `[\"price_total\", \"customer_id\"]`\n",
        "2. `.groupby(\"customer_id\")` - группируем по `customer_id` (т.е. собираем клиентов в отдельные \"корзинки\")\n",
        "3. `.agg(\"sum\")` - считаем сумму `price_total` для каждого клиента (в итоге получаем сумму, которую потратил каждый клиент в интернет-магазине)\n",
        "4. `.reset_index()` - из секвенции делаем табличку (чисто технический трюк)\n",
        "5. `.sort_values(by=\"price_total\", ascending=False)` - сортируем клиентов по убыванию (именно за убывание отвечает параметр `ascending=False`)\n",
        "7. `.rename(columns={\"price_total\": \"customer_price_total\"})` - переименовываем название столбца из `price_total` в `customer_price_total`\n",
        "\n",
        "Итог всего посчитанного записываем в переменную `df_customers`.\n",
        "\n",
        "\n",
        "В результате получаем табличку (`DataFrame`), в которой есть два столбика:\n",
        "- `customer_id` - ID клиента\n",
        "- `customer_price_total` - общая сумма, которую клиент потратил в магазине\n",
        "\n",
        "Для каждого клиента - одна строчка."
      ],
      "id": "smoking-hampton"
    },
    {
      "cell_type": "markdown",
      "metadata": {
        "id": "knowing-renaissance"
      },
      "source": [
        "Идем дальше\n",
        "\n",
        "```\n",
        "df_customers[\"cumsum\"] = df_customers[\"customer_price_total\"].cumsum()\n",
        "value_80prc = int(df[\"price_total\"].sum() * 0.8)\n",
        "df_customers[\"most_revenue_customer\"] = df_customers[\"cumsum\"] < value_80prc\n",
        "```\n",
        "\n",
        "Далее мы хотим найти группы наиболее \"щедрых\" клиентов, которые с пропорции ~20% принесли около 80% дохода. Поэтому, для начала считаем \"кумулятивную сумму\". Иными словами - берем первого щедрого клиента и суммируем его со вторым, потом добавляем третьего и т.д. До момента, пока не увидишь, что получившаяся сумма, составляет 80% дохода. \n",
        "\n",
        "Напоследок создаем новый столбец `df_customers[\"most_revenue_customer\"]`, где будут два возможных значения: да (`True`) и нет (`False`). Самые \"щедрые\" клиенты получат значение - `True`.\n",
        "\n",
        "И теперь можем отфильтровать по ID и собрать в один набор всех `top_customers`. Именно это и делает данная строчка:\n",
        "`top_customers = set(df_customers[ df_customers[\"most_revenue_customer\"] ][\"customer_id\"].unique())`\n",
        "\n",
        "можем разложить ее на меньшие кусочки:\n",
        "1. `df_customers[ df_customers[\"most_revenue_customer\"] ]` - оставляем только строки с самыми \"щедрыми\" клиентами\n",
        "2. `[\"customer_id\"]` - в таблице, которая осталась, \"вытягиваем\" только столбец `customer_id` - там наши ID клиентов\n",
        "3. `.unique()` - эта функция возвращает нам только уникальные ID клиентов\n",
        "\n",
        "И в конце мы еще добавили `set()` - т.е. делаем уникальный набор.\n",
        "\n",
        "И все это записываем в переменную `top_customers`. В результате у нас есть набор (это уникальный список, т.е. каждый клиент будет только раз)."
      ],
      "id": "knowing-renaissance"
    },
    {
      "cell_type": "markdown",
      "metadata": {
        "id": "small-reviewer"
      },
      "source": [
        "В самом конце мы \"чистили мусор\" в памяти:\n",
        "\n",
        "```\n",
        "del df_customers\n",
        "gc.collect()\n",
        "```\n",
        "\n",
        "Это для того, чтобы освободить память, например, переменная `df_customers` нам больше не нужна, она была нужна нам для того, чтобы получить `top_customers`. Мы получили. Ключевое слово `del`- освобождает ресурсы (помечает, что уже эта переменная не нужна) и дает право \"уборщику\" почистить. Процесс запуска уборщика - автоматический, но мы можем его \"смотивировать\" убрать как можно скорее, вызвав `gc.collect ()`. Обращаю Твое внимание на это, потому что этот практический \"трюк\", скорее всего, будет частым Твоим другом на практике. Поэтому стоит подружиться заранее.\n",
        "\n",
        "Так к слову, (для домохозяинов и домохозяек),  ИТ-мир настолько классный, что если хочешь прибраться 🗑️, достаточно вызвать \"Мистера Пропера\" из мира IT - `gc.collect ()` и все 💪.\n",
        "\n",
        "Постарайся разобраться в конструкции, которую обсудили, так как далее нужно будет ее немного менять. Если есть вопросы - пиши смело в Slack! Сегодня у нас четвертый день - поэтому вопросы, сомнения и т.д., писать нужно в [#dwthon_day4](https://bit.ly/3fRIQ5X)."
      ],
      "id": "small-reviewer"
    },
    {
      "cell_type": "markdown",
      "metadata": {
        "id": "friendly-transcript"
      },
      "source": [
        "## Клиенты\n",
        "Теперь у нас есть таблица для каждого клиента с его растратами (сумма покупок). Другими словами, каждая строчка - это уникальный клиент. \n",
        "\n",
        "Дополнительно сделаем более сложную агрегацию, потому что пришло время делать более сложные вещи :).\n",
        "\n",
        "Например: `count_orders = (\" order_id \", lambda x: len (set (x)))`\n",
        "\n",
        "Эта запись означает, что появится новый столбец в нашей таблице с названием `count_orders`. Но, чтобы получить этот столбец, мы берем исходный столбец с именем `order_id` и используем агрегирующую функцию `lambda x: len (set (x))`. Конкретно в этом случае - мы подсчитываем количество уникальных заказов для каждого клиента. Например, Саша сделал 3 заказа, а Маша сделала 5 заказов и т.д. Цифры 3 или 5 будут приписаны новому столбцу `count_orders`.\n",
        "\n",
        "##### ☝️Внимание! Если сложно читать и понимать то, что написано внутри функции `agg`, не беспокойся об этом! \n",
        "Ниже будет такой код.\n",
        "```\n",
        ".agg(\n",
        "        count_orders=(\"order_id\", lambda x: len(set(x))),\n",
        "        count_unq_products=(\"product_id\", lambda x: len(set(x))),\n",
        "        sum_quantity=(\"quantity\", np.sum),\n",
        "        sum_price_unit=(\"price_unit\", np.sum),\n",
        "        sum_price_total=(\"price_total\", np.sum),\n",
        "        count_unq_countries=(\"country_id\", lambda x: len(set(x))),\n",
        "        prob_canceled=(\"is_canceled\", np.mean)\n",
        "    )\n",
        "```\n",
        "На данный момент не так важно понимать все и, тем более, -  как именно это написано на уровне кода. Важно понимать, что мы хотим подсчитывать для каждого клиента, сколько у него заказов, сколько уникальных товаров он купил и т. д. Главное - пойми идею - а сам код сейчас не самое важное, тем более - этому всегда можно доучиться.\n",
        "\n",
        "\n",
        "### Пишем код!"
      ],
      "id": "friendly-transcript"
    },
    {
      "cell_type": "code",
      "metadata": {
        "id": "demonstrated-squad",
        "outputId": "59c3be27-801c-472d-8b0f-e70a7586ad48"
      },
      "source": [
        "df_customers = (\n",
        "    df\n",
        "    .groupby(\"customer_id\", as_index=False)\n",
        "    .agg(\n",
        "        count_orders=(\"order_id\", lambda x: len(set(x))),\n",
        "        count_unq_products=(\"product_id\", lambda x: len(set(x))),\n",
        "        sum_quantity=(\"quantity\", np.sum),\n",
        "        sum_price_unit=(\"price_unit\", np.sum),\n",
        "        sum_price_total=(\"price_total\", np.sum),\n",
        "        count_unq_countries=(\"country_id\", lambda x: len(set(x))),\n",
        "        prob_canceled=(\"is_canceled\", np.mean)\n",
        "    )\n",
        ")\n",
        "\n",
        "df_customers[\"most_revenue_customer\"] = df_customers[\"customer_id\"].map(lambda x: x in top_customers)\n",
        "\n",
        "df_customers"
      ],
      "id": "demonstrated-squad",
      "execution_count": null,
      "outputs": [
        {
          "data": {
            "text/html": [
              "<div>\n",
              "<style scoped>\n",
              "    .dataframe tbody tr th:only-of-type {\n",
              "        vertical-align: middle;\n",
              "    }\n",
              "\n",
              "    .dataframe tbody tr th {\n",
              "        vertical-align: top;\n",
              "    }\n",
              "\n",
              "    .dataframe thead th {\n",
              "        text-align: right;\n",
              "    }\n",
              "</style>\n",
              "<table border=\"1\" class=\"dataframe\">\n",
              "  <thead>\n",
              "    <tr style=\"text-align: right;\">\n",
              "      <th></th>\n",
              "      <th>customer_id</th>\n",
              "      <th>count_orders</th>\n",
              "      <th>count_unq_products</th>\n",
              "      <th>sum_quantity</th>\n",
              "      <th>sum_price_unit</th>\n",
              "      <th>sum_price_total</th>\n",
              "      <th>count_unq_countries</th>\n",
              "      <th>prob_canceled</th>\n",
              "      <th>most_revenue_customer</th>\n",
              "    </tr>\n",
              "  </thead>\n",
              "  <tbody>\n",
              "    <tr>\n",
              "      <th>0</th>\n",
              "      <td>0</td>\n",
              "      <td>159</td>\n",
              "      <td>93</td>\n",
              "      <td>22976</td>\n",
              "      <td>895827</td>\n",
              "      <td>5746671</td>\n",
              "      <td>1</td>\n",
              "      <td>0.010966</td>\n",
              "      <td>True</td>\n",
              "    </tr>\n",
              "    <tr>\n",
              "      <th>1</th>\n",
              "      <td>1</td>\n",
              "      <td>40</td>\n",
              "      <td>184</td>\n",
              "      <td>3514</td>\n",
              "      <td>205962</td>\n",
              "      <td>910113</td>\n",
              "      <td>1</td>\n",
              "      <td>0.097727</td>\n",
              "      <td>True</td>\n",
              "    </tr>\n",
              "    <tr>\n",
              "      <th>2</th>\n",
              "      <td>2</td>\n",
              "      <td>30</td>\n",
              "      <td>139</td>\n",
              "      <td>8971</td>\n",
              "      <td>95500</td>\n",
              "      <td>1337464</td>\n",
              "      <td>1</td>\n",
              "      <td>0.009050</td>\n",
              "      <td>True</td>\n",
              "    </tr>\n",
              "    <tr>\n",
              "      <th>3</th>\n",
              "      <td>3</td>\n",
              "      <td>9</td>\n",
              "      <td>40</td>\n",
              "      <td>1108</td>\n",
              "      <td>18626</td>\n",
              "      <td>226381</td>\n",
              "      <td>1</td>\n",
              "      <td>0.000000</td>\n",
              "      <td>False</td>\n",
              "    </tr>\n",
              "    <tr>\n",
              "      <th>4</th>\n",
              "      <td>4</td>\n",
              "      <td>14</td>\n",
              "      <td>11</td>\n",
              "      <td>390</td>\n",
              "      <td>20028</td>\n",
              "      <td>346978</td>\n",
              "      <td>1</td>\n",
              "      <td>0.307692</td>\n",
              "      <td>True</td>\n",
              "    </tr>\n",
              "    <tr>\n",
              "      <th>...</th>\n",
              "      <td>...</td>\n",
              "      <td>...</td>\n",
              "      <td>...</td>\n",
              "      <td>...</td>\n",
              "      <td>...</td>\n",
              "      <td>...</td>\n",
              "      <td>...</td>\n",
              "      <td>...</td>\n",
              "      <td>...</td>\n",
              "    </tr>\n",
              "    <tr>\n",
              "      <th>5874</th>\n",
              "      <td>5874</td>\n",
              "      <td>2</td>\n",
              "      <td>46</td>\n",
              "      <td>213</td>\n",
              "      <td>15654</td>\n",
              "      <td>48343</td>\n",
              "      <td>1</td>\n",
              "      <td>0.040000</td>\n",
              "      <td>False</td>\n",
              "    </tr>\n",
              "    <tr>\n",
              "      <th>5875</th>\n",
              "      <td>5875</td>\n",
              "      <td>1</td>\n",
              "      <td>21</td>\n",
              "      <td>261</td>\n",
              "      <td>4944</td>\n",
              "      <td>30081</td>\n",
              "      <td>1</td>\n",
              "      <td>0.000000</td>\n",
              "      <td>False</td>\n",
              "    </tr>\n",
              "    <tr>\n",
              "      <th>5876</th>\n",
              "      <td>5876</td>\n",
              "      <td>1</td>\n",
              "      <td>69</td>\n",
              "      <td>367</td>\n",
              "      <td>33622</td>\n",
              "      <td>110868</td>\n",
              "      <td>1</td>\n",
              "      <td>0.000000</td>\n",
              "      <td>False</td>\n",
              "    </tr>\n",
              "    <tr>\n",
              "      <th>5877</th>\n",
              "      <td>5877</td>\n",
              "      <td>1</td>\n",
              "      <td>33</td>\n",
              "      <td>85</td>\n",
              "      <td>7995</td>\n",
              "      <td>13458</td>\n",
              "      <td>1</td>\n",
              "      <td>0.000000</td>\n",
              "      <td>False</td>\n",
              "    </tr>\n",
              "    <tr>\n",
              "      <th>5878</th>\n",
              "      <td>5878</td>\n",
              "      <td>2</td>\n",
              "      <td>1</td>\n",
              "      <td>2</td>\n",
              "      <td>2190</td>\n",
              "      <td>2190</td>\n",
              "      <td>1</td>\n",
              "      <td>0.500000</td>\n",
              "      <td>False</td>\n",
              "    </tr>\n",
              "  </tbody>\n",
              "</table>\n",
              "<p>5879 rows × 9 columns</p>\n",
              "</div>"
            ],
            "text/plain": [
              "      customer_id  count_orders  count_unq_products  sum_quantity  \\\n",
              "0               0           159                  93         22976   \n",
              "1               1            40                 184          3514   \n",
              "2               2            30                 139          8971   \n",
              "3               3             9                  40          1108   \n",
              "4               4            14                  11           390   \n",
              "...           ...           ...                 ...           ...   \n",
              "5874         5874             2                  46           213   \n",
              "5875         5875             1                  21           261   \n",
              "5876         5876             1                  69           367   \n",
              "5877         5877             1                  33            85   \n",
              "5878         5878             2                   1             2   \n",
              "\n",
              "      sum_price_unit  sum_price_total  count_unq_countries  prob_canceled  \\\n",
              "0             895827          5746671                    1       0.010966   \n",
              "1             205962           910113                    1       0.097727   \n",
              "2              95500          1337464                    1       0.009050   \n",
              "3              18626           226381                    1       0.000000   \n",
              "4              20028           346978                    1       0.307692   \n",
              "...              ...              ...                  ...            ...   \n",
              "5874           15654            48343                    1       0.040000   \n",
              "5875            4944            30081                    1       0.000000   \n",
              "5876           33622           110868                    1       0.000000   \n",
              "5877            7995            13458                    1       0.000000   \n",
              "5878            2190             2190                    1       0.500000   \n",
              "\n",
              "      most_revenue_customer  \n",
              "0                      True  \n",
              "1                      True  \n",
              "2                      True  \n",
              "3                     False  \n",
              "4                      True  \n",
              "...                     ...  \n",
              "5874                  False  \n",
              "5875                  False  \n",
              "5876                  False  \n",
              "5877                  False  \n",
              "5878                  False  \n",
              "\n",
              "[5879 rows x 9 columns]"
            ]
          },
          "execution_count": 4,
          "metadata": {},
          "output_type": "execute_result"
        }
      ]
    },
    {
      "cell_type": "markdown",
      "metadata": {
        "id": "lesser-sunrise"
      },
      "source": [
        "Давай вместе посмотрим - что внутри `df_customers` таблицы (`DataFrame`).\n",
        "\n",
        "- `customer_id` - ID клиента.\n",
        "- `count_orders` - количество уникальных заказов за все время для данного клиента.\n",
        "    - `count_unq_products` - количество уникальных продуктов (например, Саша покупает только хлеб и молоко, значит - 2 уникальных продукта) за все время в разрезе каждого клиента.\n",
        "- `sum_quantity` - сумму покупаемых товаров в штуках (например, Саша купил 2 шт. хлеба и 3 шт. молока - сумма будет 5.\n",
        "- `sum_price_unit` - сумма для каждого вида продукта (например, у Саши 2 вида продукта - поэтому это будет сумма молока и хлеба - игнорируются штуки закупленных продуктов.\n",
        "- `sum_price_total` - общая сумма затрат за все время истории в данных - для каждого клиента отдельно.\n",
        "- `count_unq_countries` - из каких стран покупал клиент (обычно одна страна, но иногда бывает больше).\n",
        "- `prob_canceled` - вероятность того, что заказ будет возвращен (здесь простая формула - кол-во заказов, которые клиент вернул, делим на количество заказов, которые он купил). Значение может быть между 0 и 1. Где 0 - это значит, что данный клиент никогда не возвращал заказы, а 1 -  клиент вернул все свои заказы.\n",
        "- `most_revenue_customer` - информация о том, принадлежит ли клиент к группе самых щедрых клиентов.\n",
        "\n",
        "Для создания нашей целевой переменной будем использовать столбец `most_revenue_customer`. Давай перепроверим - какой процент клиентов принадлежит группе `most_revenue_customer`."
      ],
      "id": "lesser-sunrise"
    },
    {
      "cell_type": "code",
      "metadata": {
        "id": "upper-membrane",
        "outputId": "ff000ea7-ad1c-4401-ae97-36f7e69b22c3"
      },
      "source": [
        "df_customers[\"most_revenue_customer\"].value_counts(normalize=True)"
      ],
      "id": "upper-membrane",
      "execution_count": null,
      "outputs": [
        {
          "data": {
            "text/plain": [
              "False    0.774792\n",
              "True     0.225208\n",
              "Name: most_revenue_customer, dtype: float64"
            ]
          },
          "execution_count": 5,
          "metadata": {},
          "output_type": "execute_result"
        }
      ]
    },
    {
      "cell_type": "markdown",
      "metadata": {
        "id": "dress-replica"
      },
      "source": [
        "У нас 22,5% клиентов принадлежат к категории `top_customers`.\n",
        "\n",
        "Хорошо! Пора тренировать модель."
      ],
      "id": "dress-replica"
    },
    {
      "cell_type": "markdown",
      "metadata": {
        "id": "complicated-visiting"
      },
      "source": [
        "# Краткий глоссарий ML\n",
        "\n",
        "\n",
        "## Что такое алгоритм (например, деревья решений)?\n",
        "Это определенная последовательность шагов, которые будут выполнены для обучения модели (и лучшего ее изучения).\n",
        "\n",
        "\n",
        "## Что такое модель?\n",
        "Это определенное «состояние» того, что было обнаружено в исторических данных.\n",
        "\n",
        "Пример по аналогии.\n",
        "\n",
        "Алгоритм - это рецепт блюда (даже больше набор ингридиентов). \n",
        "Модель - реализованное состояние этого рецепта, т.е. готовое блюдо. \n",
        "\n",
        "\n",
        "В этой модели подготовлены данные.\n",
        "Рецепт всего один, а блюд могут быть миллионы и они будут разными, в зависимости от того, что было подано «на входе» (брошено в чашу).\n",
        "\n",
        "\n",
        "## Что значит обучить модель?\n",
        "Это процесс, когда модель ищет зависимости (корреляции) в исторических данных. Результат обучения - это готовая модель, которую мы затем можем использовать для предсказания будущего (или иначе - существуют разные творческие подходы, как можно ее использовать).\n",
        "\n",
        "## Что такое признаки?\n",
        "Это свойства (характеристики) объектов. В нашем случае характеристиками для покупателя могут быть: \n",
        "- количество заказов, \n",
        "- количество  купленных товаров\n",
        "- и т.д.\n",
        "\n",
        "Можно сказать, что признаки - это столбцы в нашей таблице (конечно, без целевой переменной, в нашем случае, без `most_revenue_customer`).\n",
        "\n",
        "## Что такое целевая переменная?\n",
        "Это то, что предсказывает модель.\n",
        "Можно сказать, что это тот столбец в нашей таблице, который нас интересует. В нашем случае - `most_revenue_customer`, т.е. нас интересует описание клиента (его признаки), которые помогут определить -  будет ли клиент в группе наиболее \"щедрых\" клиентов или нет.\n",
        "\n",
        "\n",
        "## Почему целевая переменная не может быть в признаках?\n",
        "Современный алгоритм «умный». Он сразу «поймает», что это ответ, и будет использовать этот признак, как ответ. Но какова в этом ценность? Если у нее в признаках (описаниях) заранее \"зашит\" ответ - толку на основании этого прогнозировать ответ. Нет смысла прогонять это через модель. \n",
        "\n",
        "Пример.\n",
        "*Это все равно, что студент на экзамене вместе с вытянутым вопросом получает ответ. Студент конечно же может не подсматривать в 100% правильный ответ и думать сам, но все же прагматичнее переписать и минимизировать риски (а машинное обучение - это прежде всего прагматичная оптимизация).*\n",
        "\n",
        "\n",
        "## Зачем мы тренируем модель?\n",
        "Чтобы выловить неочевидные взаимосвязи и затем - делать прогнозы. Модель тренируется только на основании признаков, а ответ записывается в целевую переменную. Хотя стоит заметить, что может быть по-разному. В нашем случае речь идет о более творческом подходе, и это именно то, что будет завтра -  и что стоит обязательно выполнить. Сегодня давай сосредоточимся на обучении модели по метрике успеха.\n",
        "\n",
        "\n",
        "## Что такое метрика успеха?\n",
        "Это способ измерить качество работы нашего решения (модели). \n",
        "\n",
        "Простой пример.\n",
        "У нас есть две (разные) модели. Каждая из моделей дает свой результат - в итоге у нас есть два разных результата. Вопрос: как мы можем сказать, у какой модели лучший результат? Метрика успеха сводится к «сжатию» качества модели в конкретное число. Иными словами, очень легко сравнивать конкретные числа, например, этими числами является точность.\n",
        "\n",
        "Точность - это один из примеров метрики. Например, модель A дает точность 95%, модель Б - 99%. В такоме случае (для этой метрики), модель Б лучше. Хотя в метрике есть множество нюансов, которые нужно понимать, не будем сейчас вдаваться в подробности.\n",
        "\n",
        "\n",
        "Ну что, теперь мы подготовим признаки и будем тренировать модель.\n",
        "\n",
        "Ниже приведен код, который делает простую вещь, а именно - оставляет только столбцы, которые являются числовыми или  логическими (анг. `boolean`) - то есть столбцы, которые принимают значения: `True` или `False`."
      ],
      "id": "complicated-visiting"
    },
    {
      "cell_type": "code",
      "metadata": {
        "id": "excess-islam",
        "outputId": "c1f0ee99-8f9d-412c-82b7-a6d7f9a16bd3"
      },
      "source": [
        "feats = list(df_customers.select_dtypes([np.number, bool]).columns)\n",
        "\n",
        "feats"
      ],
      "id": "excess-islam",
      "execution_count": null,
      "outputs": [
        {
          "data": {
            "text/plain": [
              "['customer_id',\n",
              " 'count_orders',\n",
              " 'count_unq_products',\n",
              " 'sum_quantity',\n",
              " 'sum_price_unit',\n",
              " 'sum_price_total',\n",
              " 'count_unq_countries',\n",
              " 'prob_canceled',\n",
              " 'most_revenue_customer']"
            ]
          },
          "execution_count": 6,
          "metadata": {},
          "output_type": "execute_result"
        }
      ]
    },
    {
      "cell_type": "markdown",
      "metadata": {
        "id": "chubby-strand"
      },
      "source": [
        "Как видно, среди признаков также \"выловили\" `most_revenue_customer`, который (напомню) является нашей целевой переменной. \n",
        "Его следует удалить. Это уже объяснял почему, если забыл(а)- почитай выше (не хотим давать однозначный ответ для студнета на экзамене - это как-то не логично). \n",
        "\n",
        "Проблему можно легко решить, cоздав список исключений. На данный момент в этом списке будет только один столбец `most_revenue_customer`, но можно потом добавить больше."
      ],
      "id": "chubby-strand"
    },
    {
      "cell_type": "code",
      "metadata": {
        "id": "balanced-flesh"
      },
      "source": [
        "black_list = [\"most_revenue_customer\"]\n",
        "feats = [x for x in feats if x not in black_list]"
      ],
      "id": "balanced-flesh",
      "execution_count": null,
      "outputs": []
    },
    {
      "cell_type": "markdown",
      "metadata": {
        "id": "existing-philadelphia"
      },
      "source": [
        "У нас остался минимальный шаг, чтобы получить так называемые `X` и `y`.\n",
        "\n",
        "- `X` - это наша таблица (обычно ее называют в этом случае как - матрица) признаков.\n",
        "- `y` - это наша целевая переменная"
      ],
      "id": "existing-philadelphia"
    },
    {
      "cell_type": "code",
      "metadata": {
        "id": "norwegian-facility"
      },
      "source": [
        "X = df_customers[feats].values\n",
        "y = df_customers[\"most_revenue_customer\"].values"
      ],
      "id": "norwegian-facility",
      "execution_count": null,
      "outputs": []
    },
    {
      "cell_type": "markdown",
      "metadata": {
        "id": "animal-twist"
      },
      "source": [
        "### Обучаем модель\n",
        "\n",
        "Сначала мы воспользуемся деревом решений. Как я уже упоминал ранее, не нужно заранее знать, как работает этот алгоритм. Для начала можешь думать об этом, как о решении типа «черный ящик», которое может учиться «как-то», на основании данных. Главное, что дает результат."
      ],
      "id": "animal-twist"
    },
    {
      "cell_type": "code",
      "metadata": {
        "id": "decimal-delay",
        "outputId": "ea2f7885-e2cd-46f1-8181-3a759acddff6"
      },
      "source": [
        "scores = cross_val_score(DecisionTreeClassifier(max_depth=3), X, y, scoring=\"accuracy\", cv=5)\n",
        "np.mean(scores), np.std(scores)"
      ],
      "id": "decimal-delay",
      "execution_count": null,
      "outputs": [
        {
          "data": {
            "text/plain": [
              "(0.9996598639455783, 0.0004165798882284457)"
            ]
          },
          "execution_count": 18,
          "metadata": {},
          "output_type": "execute_result"
        }
      ]
    },
    {
      "cell_type": "markdown",
      "metadata": {
        "id": "supreme-former"
      },
      "source": [
        "Получили очень хороший результат: точность 99%. Поздравляю! Твоя первая модель только что создана. Хотя качество достаточно подозрительно хорошее, скорее всего - у нас имеется какая-та сильная корреляция (взаимосвязь). \n",
        "\n",
        "\n",
        "Сейчас об этом не стоит сильно беспокоиться. Мы еще к этому вернемся \"завтра\", где займемся интерпретацией модели."
      ],
      "id": "supreme-former"
    },
    {
      "cell_type": "markdown",
      "metadata": {
        "id": "anticipated-scale"
      },
      "source": [
        "## Задание 4.1\n",
        "\n",
        "Мы только что обучили модель для `top_customers`. Твоя задача - обучить новую модель, используя `top_products`\n",
        "\n",
        "\n",
        "### 💡 Советы: \n",
        "\n",
        "1. Сначала подготовь набор `top_products`.\n",
        "2. Затем подготовь `df_products`, который будет включать полезные признаки (конечно, можешь вдохновиться тем, как мы делали для` df_customers`).\n",
        "3. Затем приготовь `feats`, `X` i `y`.\n",
        "4. Обучи модель (например, `DecisionTreeClassifier`).\n",
        "5. Поделись своим результатом :)"
      ],
      "id": "anticipated-scale"
    },
    {
      "cell_type": "code",
      "metadata": {
        "id": "successful-making",
        "outputId": "f43242d6-a983-46b4-883c-2cadecb49319"
      },
      "source": [
        "df_products = (\n",
        "    df[ [\"price_total\", \"product_id\"] ]\n",
        "    .groupby(\"product_id\")\n",
        "    .agg(\"sum\")\n",
        "    .reset_index()\n",
        "    .sort_values(by=\"price_total\", ascending=False)\n",
        "    .rename(columns={\"price_total\": \"product_price_total\"})\n",
        ")\n",
        "\n",
        "\n",
        "df_products[\"cumsum\"] = df_products[\"product_price_total\"].cumsum()\n",
        "value_80prc = int(df[\"price_total\"].sum() * 0.8)\n",
        "df_products[\"most_revenue_products\"] = df_products[\"cumsum\"] < value_80prc\n",
        "\n",
        "\n",
        "top_products = set(df_products[ df_products[\"most_revenue_products\"] ][\"product_id\"].unique())\n",
        "\n",
        "del df_products\n",
        "gc.collect()\n",
        "\n",
        "df_products = (\n",
        "    df\n",
        "    .groupby(\"product_id\", as_index=False)\n",
        "    .agg(\n",
        "        count_orders=(\"order_id\", lambda x: len(set(x))),\n",
        "        count_unq_products=(\"product_id\", lambda x: len(set(x))),\n",
        "        sum_quantity=(\"quantity\", np.sum),\n",
        "        sum_price_unit=(\"price_unit\", np.sum),\n",
        "        sum_price_total=(\"price_total\", np.sum),\n",
        "        count_unq_countries=(\"country_id\", lambda x: len(set(x))),\n",
        "        prob_canceled=(\"is_canceled\", np.mean)\n",
        "    )\n",
        ")\n",
        "\n",
        "df_products[\"most_revenue_products\"] = df_products[\"product_id\"].map(lambda x: x in top_products)\n",
        "\n",
        "df_products[\"most_revenue_products\"].value_counts(normalize=True)\n",
        "\n",
        "feats = list(df_products.select_dtypes([np.number, bool]).columns)\n",
        "\n",
        "black_list = [\"most_revenue_products\"]\n",
        "feats = [x for x in feats if x not in black_list]\n",
        "\n",
        "X = df_products[feats].values\n",
        "y = df_products[\"most_revenue_products\"].values\n",
        "\n",
        "scores = cross_val_score(DecisionTreeClassifier(max_depth=3), X, y, scoring=\"accuracy\", cv=5)\n",
        "np.mean(scores), np.std(scores)"
      ],
      "id": "successful-making",
      "execution_count": null,
      "outputs": [
        {
          "data": {
            "text/plain": [
              "(0.999484203525108, 0.0006317193061419072)"
            ]
          },
          "execution_count": 22,
          "metadata": {},
          "output_type": "execute_result"
        }
      ]
    },
    {
      "cell_type": "markdown",
      "metadata": {
        "id": "vietnamese-catholic"
      },
      "source": [
        "## 🧠 Включим критическое мышление\n",
        "\n",
        "\n",
        "Давай подумаем вместе, что именно мы сейчас делаем (вот именно, что это было?).\n",
        "\n",
        "У нас есть список наших клиентов на момент X (последняя покупка). Посмотримм на ось времени. Лучше сразу разберем это на примере."
      ],
      "id": "vietnamese-catholic"
    },
    {
      "cell_type": "code",
      "metadata": {
        "id": "conventional-brown",
        "outputId": "00ac9ab1-0e71-4179-f634-37c244fedec0"
      },
      "source": [
        "df[\"order_date\"].min(), df[\"order_date\"].max()"
      ],
      "id": "conventional-brown",
      "execution_count": null,
      "outputs": [
        {
          "data": {
            "text/plain": [
              "(Timestamp('2009-12-01 07:45:00'), Timestamp('2011-12-09 12:50:00'))"
            ]
          },
          "execution_count": 23,
          "metadata": {},
          "output_type": "execute_result"
        }
      ]
    },
    {
      "cell_type": "markdown",
      "metadata": {
        "id": "complete-terry"
      },
      "source": [
        "У нас есть данные с `2009-12-01 07:45:00` по `2011-12-09 12:50:00`.\n",
        "\n",
        "Когда мы обучаем модель, мы передаем модели всю историю, которая у нас есть о клиенте. Все это означает, что модель учится на ситуациях, когда мы уже «довольно много» знаем о клиенте. Фактически, может оказаться, что - зачем в таком случае ML? Зачем использовать трудные алгоритмы, если можно на калькуляторе посчитать сколько потратил клиент и по факту приписать его к `top_customer`.\n",
        "\n",
        "Было бы конечно интереснее обучить модель немного по-другому и выявить ее потенциал в самом начале.\n",
        "\n",
        "Давай подумаем об этом так.\n",
        "\n",
        "У нас есть история о клиенте, например, за 2 года. Мы знаем, что он находится в сегменте `top_customer`. Однако этот клиент присоединился к этому сегменту... скажем, через 15 месяцев. Значит, на временной оси между 0 и 15 месяцев не было понятно - будет ли данный клиент в `top_customer`, но уже, набрав критическую массу (клиент потратил X денег), клиент присоединяется к клубу `top_customer`, из которого не исключают. Получается, что предсказывать судьбу этого клиента на оси времени через 15 месяцев,  становится мало интересной задачей - т.к. ответ остается без изменений.\n",
        "\n",
        "\n",
        "### Что мы можем сделать?\n",
        "Что ж - это хороший вопрос. Понимание оси времени в машинном обучении очень важно, и, по моему опыту, именно здесь совершается больше всего ошибок, особенно новичками. Поэтому заостряю на конкретном примере Твое внимание. Надо подумать что дальше :).\n",
        "\n",
        "\n",
        "## 🧠 Включим критическое мышление\n",
        "Давай думать, как мы можем воспользоваться нашей ситуацией.\n",
        "\n",
        "1. Мы знаем, чем это «заканчивается» (если клиент уже в `top_customers`, то там уже остается), но мы еще не знаем, кто будет там в будущем (у нас пока нет этих данных).\n",
        "2. Но мы хотим показать модели только часть данных (например, мы знаем историю двухлетней давности, но мы показываем модели только первые 10 месяцев или 12 месяцев, или 15 месяцев, или другой разумный для нас промежуток времени).\n",
        "\n",
        "Подумай, как мы можем обучить модель, чтобы, с одной стороны, она получала как можно меньше информации (то есть могла «распознать» потенциал, как можно скорее). Какие плюсы и минусы (по крайней мере, на Твой взгляд).\n",
        "\n",
        "\n",
        "#### ☝️Обрати внимание, что речь идет не о технических «размышлениях» - как это сделать (Ты можешь всегда попросить помощи в чатике). Подумай об этом концептуально, т.е. чего мы хотим достичь :)\n",
        "\n",
        "Что нас волнует? Предполагается ли, что модель учится на уже более продвинутом «состоянии» клиента, когда история достаточно длинная (например, 1-2 года, и поэтому уже известно, кто есть кто), или модель умеет находить «золотой потенциал» намного раньше. Последнее звучит как нечто с гораздо большей добавленной стоимостью. И здесь машинное обучение может иметь преимущество перед «классической аналитикой»."
      ],
      "id": "complete-terry"
    }
  ]
}