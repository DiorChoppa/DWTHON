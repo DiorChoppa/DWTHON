{
  "nbformat": 4,
  "nbformat_minor": 0,
  "metadata": {
    "kernelspec": {
      "display_name": "Python 3",
      "language": "python",
      "name": "python3"
    },
    "language_info": {
      "codemirror_mode": {
        "name": "ipython",
        "version": 3
      },
      "file_extension": ".py",
      "mimetype": "text/x-python",
      "name": "python",
      "nbconvert_exporter": "python",
      "pygments_lexer": "ipython3",
      "version": "3.8.6"
    },
    "colab": {
      "name": "day3.ipynb",
      "provenance": []
    }
  },
  "cells": [
    {
      "cell_type": "markdown",
      "metadata": {
        "id": "4X6HtIacM0iW"
      },
      "source": [
        "## Библиотеки\n",
        "\n",
        "Помимо `pandas`, будем использовать новую библиотеку для графиков - `matplotlib`."
      ]
    },
    {
      "cell_type": "code",
      "metadata": {
        "id": "qlBNj8HjM0iX"
      },
      "source": [
        "import pandas as pd\n",
        "\n",
        "import matplotlib\n",
        "import matplotlib.pyplot as plt\n",
        "plt.style.use('ggplot') #стиль\n",
        "matplotlib.rcParams['figure.figsize'] = (12, 5) #размер графика"
      ],
      "execution_count": null,
      "outputs": []
    },
    {
      "cell_type": "markdown",
      "metadata": {
        "id": "rCt09gKeM0iY"
      },
      "source": [
        "## Загрузим данные\n",
        "\n",
        "Ты ведь помнишь, как это делать? Повторим еще раз :). Мы используем для этого функции `pd.read_hdf`."
      ]
    },
    {
      "cell_type": "code",
      "metadata": {
        "id": "eX3U_vulM0iY",
        "outputId": "cbcd6648-1404-4dcc-d880-41dedc79aabf"
      },
      "source": [
        "df = pd.read_hdf(\"../input/data.h5\")\n",
        "\n",
        "print(df.shape)\n",
        "df.sample(5)"
      ],
      "execution_count": null,
      "outputs": [
        {
          "name": "stdout",
          "output_type": "stream",
          "text": [
            "(820906, 9)\n"
          ]
        },
        {
          "data": {
            "text/html": [
              "<div>\n",
              "<style scoped>\n",
              "    .dataframe tbody tr th:only-of-type {\n",
              "        vertical-align: middle;\n",
              "    }\n",
              "\n",
              "    .dataframe tbody tr th {\n",
              "        vertical-align: top;\n",
              "    }\n",
              "\n",
              "    .dataframe thead th {\n",
              "        text-align: right;\n",
              "    }\n",
              "</style>\n",
              "<table border=\"1\" class=\"dataframe\">\n",
              "  <thead>\n",
              "    <tr style=\"text-align: right;\">\n",
              "      <th></th>\n",
              "      <th>order_id</th>\n",
              "      <th>customer_id</th>\n",
              "      <th>product_id</th>\n",
              "      <th>quantity</th>\n",
              "      <th>price_unit</th>\n",
              "      <th>price_total</th>\n",
              "      <th>country_id</th>\n",
              "      <th>order_date</th>\n",
              "      <th>is_canceled</th>\n",
              "    </tr>\n",
              "  </thead>\n",
              "  <tbody>\n",
              "    <tr>\n",
              "      <th>468391</th>\n",
              "      <td>30003</td>\n",
              "      <td>3493</td>\n",
              "      <td>2426</td>\n",
              "      <td>2</td>\n",
              "      <td>165</td>\n",
              "      <td>330</td>\n",
              "      <td>0</td>\n",
              "      <td>2010-02-12 12:34:00</td>\n",
              "      <td>False</td>\n",
              "    </tr>\n",
              "    <tr>\n",
              "      <th>743895</th>\n",
              "      <td>48570</td>\n",
              "      <td>753</td>\n",
              "      <td>742</td>\n",
              "      <td>5</td>\n",
              "      <td>195</td>\n",
              "      <td>975</td>\n",
              "      <td>0</td>\n",
              "      <td>2010-10-31 14:25:00</td>\n",
              "      <td>False</td>\n",
              "    </tr>\n",
              "    <tr>\n",
              "      <th>572495</th>\n",
              "      <td>37517</td>\n",
              "      <td>673</td>\n",
              "      <td>192</td>\n",
              "      <td>1</td>\n",
              "      <td>210</td>\n",
              "      <td>210</td>\n",
              "      <td>0</td>\n",
              "      <td>2010-05-30 12:30:00</td>\n",
              "      <td>False</td>\n",
              "    </tr>\n",
              "    <tr>\n",
              "      <th>168064</th>\n",
              "      <td>11943</td>\n",
              "      <td>2935</td>\n",
              "      <td>271</td>\n",
              "      <td>12</td>\n",
              "      <td>125</td>\n",
              "      <td>1500</td>\n",
              "      <td>0</td>\n",
              "      <td>2011-06-21 12:35:00</td>\n",
              "      <td>False</td>\n",
              "    </tr>\n",
              "    <tr>\n",
              "      <th>232869</th>\n",
              "      <td>16216</td>\n",
              "      <td>74</td>\n",
              "      <td>120</td>\n",
              "      <td>6</td>\n",
              "      <td>295</td>\n",
              "      <td>1770</td>\n",
              "      <td>0</td>\n",
              "      <td>2011-09-02 13:00:00</td>\n",
              "      <td>False</td>\n",
              "    </tr>\n",
              "  </tbody>\n",
              "</table>\n",
              "</div>"
            ],
            "text/plain": [
              "        order_id  customer_id  product_id  quantity  price_unit  price_total  \\\n",
              "468391     30003         3493        2426         2         165          330   \n",
              "743895     48570          753         742         5         195          975   \n",
              "572495     37517          673         192         1         210          210   \n",
              "168064     11943         2935         271        12         125         1500   \n",
              "232869     16216           74         120         6         295         1770   \n",
              "\n",
              "        country_id          order_date  is_canceled  \n",
              "468391           0 2010-02-12 12:34:00        False  \n",
              "743895           0 2010-10-31 14:25:00        False  \n",
              "572495           0 2010-05-30 12:30:00        False  \n",
              "168064           0 2011-06-21 12:35:00        False  \n",
              "232869           0 2011-09-02 13:00:00        False  "
            ]
          },
          "execution_count": 3,
          "metadata": {},
          "output_type": "execute_result"
        }
      ]
    },
    {
      "cell_type": "markdown",
      "metadata": {
        "id": "C6ZgUdgUM0iZ"
      },
      "source": [
        "## Целевая переменная\n",
        "\n",
        "\n",
        "<blockquote>\n",
        "— Скажите, пожалуйста, куда мне отсюда идти? <br />\n",
        "— А куда ты хочешь попасть? — ответил Кот. <br />\n",
        "— Мне все равно — сказала Алиса. <br />\n",
        "— Тогда все равно, куда и идти, — заметил Кот. <br />\n",
        "— Только бы попасть куда-нибудь, — пояснила Алиса. <br />\n",
        "— Куда-нибудь ты обязательно попадешь, — сказал Кот. <br />\n",
        "— Нужно только достаточно долго идти.<br />\n",
        "<br />\n",
        "    \n",
        "Алиса в стране чудес (Льюис Кэрролл)\n",
        "</blockquote> \n",
        "\n",
        "\n",
        "\n",
        "Иногда в жизни полезно поблуждать, но в нашем случае, мы хотим как можно более осознанно подходить к нашим решениям.\n",
        "Мы хотим знать, куда мы идем. Ведь мы уже знаем, где хотим оказаться?\n",
        "\n",
        "Мы хотим выбрать группы/сегменты, которые дает «большинство» (больше доходов и прибыли).\n",
        "Вспомним код из предыдущего урока и посчитаем накопительную сумму (все в одной ячейке)."
      ]
    },
    {
      "cell_type": "code",
      "metadata": {
        "id": "FrGTV9nNM0ia",
        "outputId": "3925abee-1797-487f-c4a5-059aa1cb63fa"
      },
      "source": [
        "df_customers = (\n",
        "    df[ [\"price_total\", \"customer_id\"] ]\n",
        "    .groupby(\"customer_id\")\n",
        "    .agg(\"sum\")\n",
        "    .reset_index()\n",
        "    .sort_values(by=\"price_total\", ascending=False)\n",
        "    .rename(columns={\"price_total\": \"customer_price_total\"})\n",
        ")\n",
        "\n",
        "\n",
        "df_customers[\"cumsum\"] = df_customers[\"customer_price_total\"].cumsum()\n",
        "df_customers.head(5)"
      ],
      "execution_count": null,
      "outputs": [
        {
          "data": {
            "text/html": [
              "<div>\n",
              "<style scoped>\n",
              "    .dataframe tbody tr th:only-of-type {\n",
              "        vertical-align: middle;\n",
              "    }\n",
              "\n",
              "    .dataframe tbody tr th {\n",
              "        vertical-align: top;\n",
              "    }\n",
              "\n",
              "    .dataframe thead th {\n",
              "        text-align: right;\n",
              "    }\n",
              "</style>\n",
              "<table border=\"1\" class=\"dataframe\">\n",
              "  <thead>\n",
              "    <tr style=\"text-align: right;\">\n",
              "      <th></th>\n",
              "      <th>customer_id</th>\n",
              "      <th>customer_price_total</th>\n",
              "      <th>cumsum</th>\n",
              "    </tr>\n",
              "  </thead>\n",
              "  <tbody>\n",
              "    <tr>\n",
              "      <th>448</th>\n",
              "      <td>448</td>\n",
              "      <td>61130939</td>\n",
              "      <td>61130939</td>\n",
              "    </tr>\n",
              "    <tr>\n",
              "      <th>907</th>\n",
              "      <td>907</td>\n",
              "      <td>53007160</td>\n",
              "      <td>114138099</td>\n",
              "    </tr>\n",
              "    <tr>\n",
              "      <th>2647</th>\n",
              "      <td>2647</td>\n",
              "      <td>33695110</td>\n",
              "      <td>147833209</td>\n",
              "    </tr>\n",
              "    <tr>\n",
              "      <th>179</th>\n",
              "      <td>179</td>\n",
              "      <td>31039769</td>\n",
              "      <td>178872978</td>\n",
              "    </tr>\n",
              "    <tr>\n",
              "      <th>66</th>\n",
              "      <td>66</td>\n",
              "      <td>29774259</td>\n",
              "      <td>208647237</td>\n",
              "    </tr>\n",
              "  </tbody>\n",
              "</table>\n",
              "</div>"
            ],
            "text/plain": [
              "      customer_id  customer_price_total     cumsum\n",
              "448           448              61130939   61130939\n",
              "907           907              53007160  114138099\n",
              "2647         2647              33695110  147833209\n",
              "179           179              31039769  178872978\n",
              "66             66              29774259  208647237"
            ]
          },
          "execution_count": 4,
          "metadata": {},
          "output_type": "execute_result"
        }
      ]
    },
    {
      "cell_type": "markdown",
      "metadata": {
        "id": "iGoyYlFiM0ib"
      },
      "source": [
        "Теперь мы хотим создать новый столбец, например, с названием `most_revenue_customer`, где значение может быть `True` или `False`.\n",
        "\n",
        "Значение `True` будет, когда этот конкретный покупатель находится в группе ~20%, которая приносит 80% дохода."
      ]
    },
    {
      "cell_type": "code",
      "metadata": {
        "id": "UCOkK7cKM0ic",
        "outputId": "5745ec4d-18c7-42a2-9d80-71dcce60cff1"
      },
      "source": [
        "value_80prc = int(df[\"price_total\"].sum() * 0.8)\n",
        "df_customers[\"most_revenue_customer\"] = df_customers[\"cumsum\"] < value_80prc\n",
        "\n",
        "df_customers[\"most_revenue_customer\"].value_counts()"
      ],
      "execution_count": null,
      "outputs": [
        {
          "data": {
            "text/plain": [
              "False    4555\n",
              "True     1324\n",
              "Name: most_revenue_customer, dtype: int64"
            ]
          },
          "execution_count": 5,
          "metadata": {},
          "output_type": "execute_result"
        }
      ]
    },
    {
      "cell_type": "markdown",
      "metadata": {
        "id": "A6i5e3ewM0id"
      },
      "source": [
        "`value_counts()` пишем в конце. Кстати, запомни эту функцию - она весьма удобная и часто применяется, когда нужно проверить, какие уникальные значения в столбце и сколько их (в штуках).\n",
        "\n",
        "В нашем случае у нас `1324` клиента, которые входят в число ключевых бизнес-клиентов, так как приносят компании 80% ее доходов. Если мы «потеряем» этих клиентов, у компании будут большие проблемы -80% доходов. Если не учитывать остальных клиентов (например мы потеряем остальные 80% клиентов), то у компании будет только -20% потерь. Чувствуешь разницу, правда?\n",
        "\n",
        "Кстати, в `.value_counts` Ты можешь нормализовать результат (указав аргумент` normalize=True`). И тогда можешь увидеть результат, выраженный в процентах. Иногда это удобно. Смотрим на примере, как это делается 👀."
      ]
    },
    {
      "cell_type": "code",
      "metadata": {
        "id": "ww_EFNpkM0ie",
        "outputId": "77c3e677-ab3e-4cdd-f2e0-ab7656f15a92"
      },
      "source": [
        "df_customers[\"most_revenue_customer\"].value_counts(normalize=True)"
      ],
      "execution_count": null,
      "outputs": [
        {
          "data": {
            "text/plain": [
              "False    0.774792\n",
              "True     0.225208\n",
              "Name: most_revenue_customer, dtype: float64"
            ]
          },
          "execution_count": 6,
          "metadata": {},
          "output_type": "execute_result"
        }
      ]
    },
    {
      "cell_type": "markdown",
      "metadata": {
        "id": "8zLeeMHAM0if"
      },
      "source": [
        "Мы видим, что `most_revenue_customer` (то есть ценность`True`) имеет **22,5%** (посчитаем `0.225208 * 100%` и округлим до `22,5%` 😉).\n",
        "\n",
        "Давай сегмент клиентов (наш `top_customers`), которые принесли 80% дохода, соберем лично (ну или точнее по `customer_id`). Для этого воспользуемся функцией `unique()`, которая вернет список идентификаторов клиентов (уникальные идентификаторы, означающие, что каждый идентификатор встречается ровно один раз). \n",
        "\n",
        "Кроме того, мы конвертируем результат в набор (анг. `set`), который гарантирует нам, что каждый customer_id будет учтен только раз.\n",
        "\n",
        "Кодим!"
      ]
    },
    {
      "cell_type": "code",
      "metadata": {
        "id": "f9M4ZwY6M0if",
        "outputId": "88b53b29-9b18-46ae-f187-a7e80fa3d59e"
      },
      "source": [
        "top_customers = set(df_customers[ df_customers[\"most_revenue_customer\"] ][\"customer_id\"].unique())\n",
        "#top_customers\n",
        "len(top_customers)"
      ],
      "execution_count": null,
      "outputs": [
        {
          "data": {
            "text/plain": [
              "1324"
            ]
          },
          "execution_count": 9,
          "metadata": {},
          "output_type": "execute_result"
        }
      ]
    },
    {
      "cell_type": "markdown",
      "metadata": {
        "id": "GItAs0bZM0ih"
      },
      "source": [
        "Теперь мы также можем добавить новый столбец `most_revenue_customer` в исходный `df`. \n",
        "\n",
        "Используя функцию `map`, мы перебираем данные -  значение за значением и проверяем, находится ли покупатель (`customer_id`) в наборе `top_customers`. Есть два возможных ответа: да или нет (`True` или `False`)."
      ]
    },
    {
      "cell_type": "code",
      "metadata": {
        "id": "ZQIXcnneM0ii",
        "outputId": "2b0b99ec-778b-4cc5-8125-65c90d1050ec"
      },
      "source": [
        "df[\"most_revenue_customer\"] = df[\"customer_id\"].map(lambda x: x in top_customers)\n",
        "df[\"most_revenue_customer\"].value_counts()"
      ],
      "execution_count": null,
      "outputs": [
        {
          "data": {
            "text/plain": [
              "True     539072\n",
              "False    281834\n",
              "Name: most_revenue_customer, dtype: int64"
            ]
          },
          "execution_count": 10,
          "metadata": {},
          "output_type": "execute_result"
        }
      ]
    },
    {
      "cell_type": "markdown",
      "metadata": {
        "id": "bcmcUOryM0ij"
      },
      "source": [
        "Появилось слово `lambda`, так называемая анонимная функция. Сейчас я не буду вдаваться в подробности. Самым важным в этой функции `lambda x: x in top_customers` - является тело функции, в котором прописывается условие `x in top_customers`. Где `x` - это имя переменной, в данном случае `x` - это `customer_id`.\n",
        "\n",
        "В итоге мы создали новый столбец с названием `most_revenue_customer`. Давай еще раз посмотрим (немного с другой стороны), что там внутри - для этого используем функцию \n",
        "`.value_counts(normalize=True)`."
      ]
    },
    {
      "cell_type": "code",
      "metadata": {
        "id": "ImRematwM0ij"
      },
      "source": [
        "df[\"most_revenue_customer\"].value_counts(normalize=True)"
      ],
      "execution_count": null,
      "outputs": []
    },
    {
      "cell_type": "markdown",
      "metadata": {
        "id": "1yRCqApjM0ik"
      },
      "source": [
        "Видно, что наибольшее количество «строк» (объектов) в нашем `df` было создано клиентами из сегмента `most_revenue_customer`. Это говорит о том, что эти клиенты сделали (и/или):\n",
        "- много заказов;\n",
        "- заказали много разных продуктов в одном заказе.\n",
        "\n",
        "Мы проверим оба случая, чтобы лучше понять, что **нужно сделать**, чтобы попасть в сегмент `most_revenue_customer`."
      ]
    },
    {
      "cell_type": "markdown",
      "metadata": {
        "id": "39zzXSX2M0il"
      },
      "source": [
        "Когда мы знаем, к чему хотим стремиться, это уже достаточно много... 💪 Задумайся на мгновение, как часто Ты осознаешь, к чему именно нужно стремиться? 🤔\n",
        "\n",
        "\n",
        "## Если мы знаем «кто», остается ответить на вопрос «как»?\n",
        "Управление своей энергией имеет решающее значение в жизни 🔋. Все просто! У каждого из нас очень ограниченное и конечное количество энергии. Тебе решать, кому ее отдать. Давай проведем мысленный эксперимент. Представь, у Тебя в кармане 1000 рублей. Ведь можно потратить их по-разному, верно? Начиная с того, что Ты всегда можешь их выбросить в окно или закопать в землю (или спалить на костре), но  также можно купить книгу или мини-курс и инвестировать в свое развитие. Каждое из этих решений повлияет на то, где Ты будешь в итоге. Здесь работает простое правило - то, где Ты сейчас находишься, - это сумма (эффект) всех Твоих предыдущих (осознанных или неосознанных) решений.\n",
        "\n",
        "\n",
        "#### Поэтому стоит позаботиться о том, как Ты распоряжаешься своей энергией\n",
        "\n",
        "Мы уже убедились собственными глазами, что некоторые клиенты приносят (гораздо) больший доход. Хотелось бы, чтобы таких клиентов было побольше, не так ли? Вопрос: **как отличить именно этих клиентов от других, глядя в будущее, а не в прошлое (не дожидаясь пока купят или не купят)?** Собственно, как можно описать (охарактеризовать) такого клиента?\n",
        "\n",
        "👀 Почему важно предугадывать поведение клиента прежде, чем он совершит покупку? Потому что есть много других затрат, например, расходы на рекламу и куча другой головной боли (все, кто имел с этим дело - сейчас активно \"машут головой\"). Поэтому заранее узнать, что характеризует «идеального клиента», и \"заинвестировать\" большую часть своего внимания и энергии в поиск людей, которым нужно именно Твое решение (продукт или услуга).\n",
        "\n",
        "Еще раз повторю, но это должно стать очевидным. Мы хотим понять, чем «идеальные клиенты» отличаются от других клиентов. Кстати, здесь слово «идеальный» может использоваться во многих контекстах: идеальный клиент, идеальный продукт, идеальный заказ, идеальный период времени и т. д. Это означает, что у нас есть ситуация, когда можно сделать меньше и получить больше, естественно, проще, потому что мы находимся в нужном месте, в нужное время и с нужным решением для нужных клиентов и т. д.\n",
        "\n",
        "Отсюда предполагаем, что каждое из этих измерений/объектов (клиент, продукт, заказ и т. д.) имеют определенные свойства, атрибуты или характеристики, которые могут отличать «идеал» от «других». В машинном обучении (англ. `machine learning`) мы называем эти свойства признаками (англ. `features`). Есть даже такой процесс (который очень важен) по созданию (изобретению) новых признаков, которые лучше описывают объект (покупателя, продукт и т. Д.). У этого процесса есть свое название \"инженерия признаков\" (англ. `feature engineering`).\n",
        "\n",
        "Этим мы и займемся :)\n",
        "\n",
        "\n",
        "## Как Ты можешь описать клиента?\n",
        "\n",
        "Поиск новых и значимых признаков - это искусство большее, чем наука. Лучше всего показать это на примерах, потому что универсального алгоритма не существует (и это даже хорошо, потому что иначе этот процесс давно уже был бы автоматизирован).\n",
        "\n",
        "👀 На первый взгляд может показаться, что у нас очень мало информации о клиентах, продуктах (например, только идентификатор), но на самом деле необходимо уметь извлекать ее, на основании имеющихся данных.\n",
        "\n",
        "Начнем с простого примера, связанного с клиентом.\n",
        "\n",
        "### Сколько заказов выполнил каждый клиент?"
      ]
    },
    {
      "cell_type": "code",
      "metadata": {
        "id": "EJa0qAYuM0im",
        "outputId": "955a9039-425e-4578-cbbe-8db71ed57484"
      },
      "source": [
        "df_customer_orders = (\n",
        "    df[ [\"customer_id\", \"order_id\"] ]\n",
        "        .groupby([\"customer_id\"])\n",
        "        .agg(lambda x: len(set(x)) )\n",
        "        .reset_index()\n",
        "        .rename(columns={\"order_id\": \"count_orders\"})\n",
        "        \n",
        ")\n",
        "\n",
        "df_customer_orders[\"most_revenue_customer\"] = df_customer_orders[\"customer_id\"].map(lambda x: x in top_customers)\n",
        "df_customer_orders"
      ],
      "execution_count": null,
      "outputs": [
        {
          "data": {
            "text/html": [
              "<div>\n",
              "<style scoped>\n",
              "    .dataframe tbody tr th:only-of-type {\n",
              "        vertical-align: middle;\n",
              "    }\n",
              "\n",
              "    .dataframe tbody tr th {\n",
              "        vertical-align: top;\n",
              "    }\n",
              "\n",
              "    .dataframe thead th {\n",
              "        text-align: right;\n",
              "    }\n",
              "</style>\n",
              "<table border=\"1\" class=\"dataframe\">\n",
              "  <thead>\n",
              "    <tr style=\"text-align: right;\">\n",
              "      <th></th>\n",
              "      <th>customer_id</th>\n",
              "      <th>count_orders</th>\n",
              "      <th>most_revenue_customer</th>\n",
              "    </tr>\n",
              "  </thead>\n",
              "  <tbody>\n",
              "    <tr>\n",
              "      <th>0</th>\n",
              "      <td>0</td>\n",
              "      <td>159</td>\n",
              "      <td>True</td>\n",
              "    </tr>\n",
              "    <tr>\n",
              "      <th>1</th>\n",
              "      <td>1</td>\n",
              "      <td>40</td>\n",
              "      <td>True</td>\n",
              "    </tr>\n",
              "    <tr>\n",
              "      <th>2</th>\n",
              "      <td>2</td>\n",
              "      <td>30</td>\n",
              "      <td>True</td>\n",
              "    </tr>\n",
              "    <tr>\n",
              "      <th>3</th>\n",
              "      <td>3</td>\n",
              "      <td>9</td>\n",
              "      <td>False</td>\n",
              "    </tr>\n",
              "    <tr>\n",
              "      <th>4</th>\n",
              "      <td>4</td>\n",
              "      <td>14</td>\n",
              "      <td>True</td>\n",
              "    </tr>\n",
              "    <tr>\n",
              "      <th>...</th>\n",
              "      <td>...</td>\n",
              "      <td>...</td>\n",
              "      <td>...</td>\n",
              "    </tr>\n",
              "    <tr>\n",
              "      <th>5874</th>\n",
              "      <td>5874</td>\n",
              "      <td>2</td>\n",
              "      <td>False</td>\n",
              "    </tr>\n",
              "    <tr>\n",
              "      <th>5875</th>\n",
              "      <td>5875</td>\n",
              "      <td>1</td>\n",
              "      <td>False</td>\n",
              "    </tr>\n",
              "    <tr>\n",
              "      <th>5876</th>\n",
              "      <td>5876</td>\n",
              "      <td>1</td>\n",
              "      <td>False</td>\n",
              "    </tr>\n",
              "    <tr>\n",
              "      <th>5877</th>\n",
              "      <td>5877</td>\n",
              "      <td>1</td>\n",
              "      <td>False</td>\n",
              "    </tr>\n",
              "    <tr>\n",
              "      <th>5878</th>\n",
              "      <td>5878</td>\n",
              "      <td>2</td>\n",
              "      <td>False</td>\n",
              "    </tr>\n",
              "  </tbody>\n",
              "</table>\n",
              "<p>5879 rows × 3 columns</p>\n",
              "</div>"
            ],
            "text/plain": [
              "      customer_id  count_orders  most_revenue_customer\n",
              "0               0           159                   True\n",
              "1               1            40                   True\n",
              "2               2            30                   True\n",
              "3               3             9                  False\n",
              "4               4            14                   True\n",
              "...           ...           ...                    ...\n",
              "5874         5874             2                  False\n",
              "5875         5875             1                  False\n",
              "5876         5876             1                  False\n",
              "5877         5877             1                  False\n",
              "5878         5878             2                  False\n",
              "\n",
              "[5879 rows x 3 columns]"
            ]
          },
          "execution_count": 11,
          "metadata": {},
          "output_type": "execute_result"
        }
      ]
    },
    {
      "cell_type": "markdown",
      "metadata": {
        "id": "a9cac4rAM0in"
      },
      "source": [
        "☝️ Обрати внимание, что мы также добавили новый столбец в `df_customer_orders` под названием `most_revenue_customer`, который имеет значение `True` или `False`. "
      ]
    },
    {
      "cell_type": "markdown",
      "metadata": {
        "id": "dozFmNk0M0in"
      },
      "source": [
        "Мы видим, что у `customer_id = 0` 159 заказов, у `customer_id = 5878` - два заказа. Давай сделаем быструю перепроверку `double-check`, чтобы убедиться, что мы все делаем правильно."
      ]
    },
    {
      "cell_type": "code",
      "metadata": {
        "id": "HEOjP6J-M0io",
        "outputId": "0c275ae3-8f26-4b5d-d5cb-99a0b00a1303"
      },
      "source": [
        "df[ df[\"customer_id\"] == 5878 ][ [\"customer_id\", \"order_id\", \"product_id\", \"order_date\"] ]"
      ],
      "execution_count": null,
      "outputs": [
        {
          "data": {
            "text/html": [
              "<div>\n",
              "<style scoped>\n",
              "    .dataframe tbody tr th:only-of-type {\n",
              "        vertical-align: middle;\n",
              "    }\n",
              "\n",
              "    .dataframe tbody tr th {\n",
              "        vertical-align: top;\n",
              "    }\n",
              "\n",
              "    .dataframe thead th {\n",
              "        text-align: right;\n",
              "    }\n",
              "</style>\n",
              "<table border=\"1\" class=\"dataframe\">\n",
              "  <thead>\n",
              "    <tr style=\"text-align: right;\">\n",
              "      <th></th>\n",
              "      <th>customer_id</th>\n",
              "      <th>order_id</th>\n",
              "      <th>product_id</th>\n",
              "      <th>order_date</th>\n",
              "    </tr>\n",
              "  </thead>\n",
              "  <tbody>\n",
              "    <tr>\n",
              "      <th>805795</th>\n",
              "      <td>5878</td>\n",
              "      <td>52178</td>\n",
              "      <td>694</td>\n",
              "      <td>2010-11-30 15:52:00</td>\n",
              "    </tr>\n",
              "    <tr>\n",
              "      <th>806122</th>\n",
              "      <td>5878</td>\n",
              "      <td>52202</td>\n",
              "      <td>694</td>\n",
              "      <td>2010-11-30 18:46:00</td>\n",
              "    </tr>\n",
              "  </tbody>\n",
              "</table>\n",
              "</div>"
            ],
            "text/plain": [
              "        customer_id  order_id  product_id          order_date\n",
              "805795         5878     52178         694 2010-11-30 15:52:00\n",
              "806122         5878     52202         694 2010-11-30 18:46:00"
            ]
          },
          "execution_count": 12,
          "metadata": {},
          "output_type": "execute_result"
        }
      ]
    },
    {
      "cell_type": "markdown",
      "metadata": {
        "id": "YQegz9W3M0ip"
      },
      "source": [
        "Все правильно - у `customer_id=5878` два заказа. Интересно, что это был тот же продукт (`product_id=694`), а второй заказ был сделан через ~ 3 часа (2:54 часа). Потом он больше не вернулся. Исходя из этого, можно предположить ряд вещей, которые еще можно проверить, но пока оставим это.\n",
        "\n",
        "Пока, помимо `customer_id`, у нас есть вторая функция `count_orders`, которая определяет количество заказов, сделанных этим клиентом.\n",
        "\n",
        "Мы начнем видеть, действительно, ли количество покупок «помогает» охватить сегмент клиентов `most_revenue_customer`."
      ]
    },
    {
      "cell_type": "code",
      "metadata": {
        "id": "0ie3FP_iM0iq",
        "outputId": "41b6bcac-45e5-4268-af47-6a23dd112711"
      },
      "source": [
        "(\n",
        "    df_customer_orders[ [\"most_revenue_customer\", \"count_orders\"] ]\n",
        "    .groupby(\"most_revenue_customer\")\n",
        "    .agg(['mean', 'min', 'max', 'median', 'std'])\n",
        ")"
      ],
      "execution_count": null,
      "outputs": [
        {
          "data": {
            "text/html": [
              "<div>\n",
              "<style scoped>\n",
              "    .dataframe tbody tr th:only-of-type {\n",
              "        vertical-align: middle;\n",
              "    }\n",
              "\n",
              "    .dataframe tbody tr th {\n",
              "        vertical-align: top;\n",
              "    }\n",
              "\n",
              "    .dataframe thead tr th {\n",
              "        text-align: left;\n",
              "    }\n",
              "\n",
              "    .dataframe thead tr:last-of-type th {\n",
              "        text-align: right;\n",
              "    }\n",
              "</style>\n",
              "<table border=\"1\" class=\"dataframe\">\n",
              "  <thead>\n",
              "    <tr>\n",
              "      <th></th>\n",
              "      <th colspan=\"5\" halign=\"left\">count_orders</th>\n",
              "    </tr>\n",
              "    <tr>\n",
              "      <th></th>\n",
              "      <th>mean</th>\n",
              "      <th>min</th>\n",
              "      <th>max</th>\n",
              "      <th>median</th>\n",
              "      <th>std</th>\n",
              "    </tr>\n",
              "    <tr>\n",
              "      <th>most_revenue_customer</th>\n",
              "      <th></th>\n",
              "      <th></th>\n",
              "      <th></th>\n",
              "      <th></th>\n",
              "      <th></th>\n",
              "    </tr>\n",
              "  </thead>\n",
              "  <tbody>\n",
              "    <tr>\n",
              "      <th>False</th>\n",
              "      <td>3.446542</td>\n",
              "      <td>1</td>\n",
              "      <td>30</td>\n",
              "      <td>2</td>\n",
              "      <td>2.913319</td>\n",
              "    </tr>\n",
              "    <tr>\n",
              "      <th>True</th>\n",
              "      <td>21.305891</td>\n",
              "      <td>1</td>\n",
              "      <td>468</td>\n",
              "      <td>15</td>\n",
              "      <td>27.836488</td>\n",
              "    </tr>\n",
              "  </tbody>\n",
              "</table>\n",
              "</div>"
            ],
            "text/plain": [
              "                      count_orders                           \n",
              "                              mean min  max median        std\n",
              "most_revenue_customer                                        \n",
              "False                     3.446542   1   30      2   2.913319\n",
              "True                     21.305891   1  468     15  27.836488"
            ]
          },
          "execution_count": 13,
          "metadata": {},
          "output_type": "execute_result"
        }
      ]
    },
    {
      "cell_type": "markdown",
      "metadata": {
        "id": "yl6DG6mpM0iq"
      },
      "source": [
        "### Анализируем результат\n",
        "\n",
        "- `min=1` для `most_revenue_customer=True`, есть как минимум один клиент, который находится в сегменте `most_revenue_customer`, но при этом сделал всего лишь один заказ (но зато какой? хотя это нужно перепроверить, возможно, все дело в \"размере\" заказа).\n",
        "- `max` для `most_revenue_customer=True` 468, для `most_revenue_customer=False` максимум 30. Похоже, что любой клиент, у которого больше 30 заказов, переходит к `most_revenue_customer`. Вероятно, это порог, превышающий определенную сумму (такую гипотезу стоит также перепроверить).\n",
        "- медиана (то есть половина) для `most_revenue_customer = True` составляет 15 (это означает, что половина клиентов имеет как минимум 15+ заказов или наоборот) в случае `most_revenue_customer = False`, половина клиентов имеет только 3 заказа.\n",
        "\n",
        "Уже на основании этой информации можно сделать интересные выводы.\n",
        "\n",
        "Время для заданий. Проведи аналогичный анализ для продуктов (как мы выше сделали для клиентов).\n",
        "\n",
        "## Задание 3.1\n",
        "\n",
        "Только что мы подготовили набор `top_customers`. Теперь сделаем то же самое, только для продуктов и сохраним результат в переменной с именем `top_products`.\n",
        "\n",
        "### 💡 Советы\n",
        "1. Сначала нужно вычислить `most_revenue_product` с возможными ответами `True` или `False`.\n",
        "2. Для этого стоит подсчитывать `cumsum` для продуктов.\n",
        "3. Мы уже сделали это для `df_customers`, теперь мы хотим получить идентичный `df_products`.\n",
        "4. Нам нужно определиться - что такое большинство (сколько процентов). Предположим, что большинство - это 80% `value_80prc = int(df [\"price_total\"].sum() * 0.8`.\n",
        "5. Затем уже можно вычислить `most_revenue_product`, например, `df_products[\"most_revenue_product\"] = df_products[\"cumsum\"] < value_80prc`.\n",
        "6. И теперь `set (df_products [df_products [\"most_revenue_product\"]] [\"product_id\"].unique())`.\n",
        "7. Наконец, результат записываем в переменную `top_products`.\n",
        "\n",
        "\n",
        "### Если у Тебя остались вопросы, задай 🙏 в чате Slack [#dwthon_day3](https://bit.ly/3f6tLfV)! Помни, что обучение начинается с вопросов. Очень хорошо, что они возникают :)"
      ]
    },
    {
      "cell_type": "code",
      "metadata": {
        "id": "o4ulWp4fM0ir",
        "outputId": "d0345972-fdce-41b2-923b-d2f9ff55889d"
      },
      "source": [
        "df_products = (\n",
        "    df[ [\"price_total\", \"product_id\"] ]\n",
        "    .groupby(\"product_id\")\n",
        "    .agg(\"sum\")\n",
        "    .reset_index()\n",
        "    .sort_values(by=\"price_total\", ascending=False)\n",
        "    .rename(columns={\"price_total\": \"product_price_total\"})\n",
        ")\n",
        "\n",
        "df_products[\"cumsum\"] = df_products[\"product_price_total\"].cumsum()\n",
        "\n",
        "value_80prc = int(df[\"price_total\"].sum() * 0.8)\n",
        "\n",
        "df_products[\"most_revenue_product\"] = df_products[\"cumsum\"] < value_80prc\n",
        "\n",
        "top_products = set(df_products[ df_products[\"most_revenue_product\"] ][\"product_id\"].unique())\n",
        "len(top_products)"
      ],
      "execution_count": null,
      "outputs": [
        {
          "data": {
            "text/plain": [
              "925"
            ]
          },
          "execution_count": 18,
          "metadata": {},
          "output_type": "execute_result"
        }
      ]
    },
    {
      "cell_type": "markdown",
      "metadata": {
        "id": "x5MvhoeKM0it"
      },
      "source": [
        "Стоит пойти еще дальше, если у Тебя есть энергия и желание, чтобы посмотреть на заказы. Каждый заказ состоит из продуктов.\n",
        "\n",
        "Например, давай проверим, какие продукты покупатель купил хотя бы один раз. "
      ]
    },
    {
      "cell_type": "code",
      "metadata": {
        "id": "ky3kTKSEM0iu",
        "outputId": "9854da25-c3d0-4da9-d3ce-f1db00fe9c00"
      },
      "source": [
        "df_customer_products = (\n",
        "    df[ [\"customer_id\", \"product_id\"] ]\n",
        "        .groupby([\"customer_id\"])\n",
        "        .agg(lambda x: len(set(x)) )\n",
        "        .reset_index()\n",
        "        .rename(columns={\"product_id\": \"count_unique_products\"})\n",
        "        \n",
        ")\n",
        "\n",
        "df_customer_products[\"most_revenue_customer\"] = df_customer_products[\"customer_id\"].map(lambda x: x in top_customers)\n",
        "df_customer_products"
      ],
      "execution_count": null,
      "outputs": [
        {
          "data": {
            "text/html": [
              "<div>\n",
              "<style scoped>\n",
              "    .dataframe tbody tr th:only-of-type {\n",
              "        vertical-align: middle;\n",
              "    }\n",
              "\n",
              "    .dataframe tbody tr th {\n",
              "        vertical-align: top;\n",
              "    }\n",
              "\n",
              "    .dataframe thead th {\n",
              "        text-align: right;\n",
              "    }\n",
              "</style>\n",
              "<table border=\"1\" class=\"dataframe\">\n",
              "  <thead>\n",
              "    <tr style=\"text-align: right;\">\n",
              "      <th></th>\n",
              "      <th>customer_id</th>\n",
              "      <th>count_unique_products</th>\n",
              "      <th>most_revenue_customer</th>\n",
              "    </tr>\n",
              "  </thead>\n",
              "  <tbody>\n",
              "    <tr>\n",
              "      <th>0</th>\n",
              "      <td>0</td>\n",
              "      <td>93</td>\n",
              "      <td>True</td>\n",
              "    </tr>\n",
              "    <tr>\n",
              "      <th>1</th>\n",
              "      <td>1</td>\n",
              "      <td>184</td>\n",
              "      <td>True</td>\n",
              "    </tr>\n",
              "    <tr>\n",
              "      <th>2</th>\n",
              "      <td>2</td>\n",
              "      <td>139</td>\n",
              "      <td>True</td>\n",
              "    </tr>\n",
              "    <tr>\n",
              "      <th>3</th>\n",
              "      <td>3</td>\n",
              "      <td>40</td>\n",
              "      <td>False</td>\n",
              "    </tr>\n",
              "    <tr>\n",
              "      <th>4</th>\n",
              "      <td>4</td>\n",
              "      <td>11</td>\n",
              "      <td>True</td>\n",
              "    </tr>\n",
              "    <tr>\n",
              "      <th>...</th>\n",
              "      <td>...</td>\n",
              "      <td>...</td>\n",
              "      <td>...</td>\n",
              "    </tr>\n",
              "    <tr>\n",
              "      <th>5874</th>\n",
              "      <td>5874</td>\n",
              "      <td>46</td>\n",
              "      <td>False</td>\n",
              "    </tr>\n",
              "    <tr>\n",
              "      <th>5875</th>\n",
              "      <td>5875</td>\n",
              "      <td>21</td>\n",
              "      <td>False</td>\n",
              "    </tr>\n",
              "    <tr>\n",
              "      <th>5876</th>\n",
              "      <td>5876</td>\n",
              "      <td>69</td>\n",
              "      <td>False</td>\n",
              "    </tr>\n",
              "    <tr>\n",
              "      <th>5877</th>\n",
              "      <td>5877</td>\n",
              "      <td>33</td>\n",
              "      <td>False</td>\n",
              "    </tr>\n",
              "    <tr>\n",
              "      <th>5878</th>\n",
              "      <td>5878</td>\n",
              "      <td>1</td>\n",
              "      <td>False</td>\n",
              "    </tr>\n",
              "  </tbody>\n",
              "</table>\n",
              "<p>5879 rows × 3 columns</p>\n",
              "</div>"
            ],
            "text/plain": [
              "      customer_id  count_unique_products  most_revenue_customer\n",
              "0               0                     93                   True\n",
              "1               1                    184                   True\n",
              "2               2                    139                   True\n",
              "3               3                     40                  False\n",
              "4               4                     11                   True\n",
              "...           ...                    ...                    ...\n",
              "5874         5874                     46                  False\n",
              "5875         5875                     21                  False\n",
              "5876         5876                     69                  False\n",
              "5877         5877                     33                  False\n",
              "5878         5878                      1                  False\n",
              "\n",
              "[5879 rows x 3 columns]"
            ]
          },
          "execution_count": 19,
          "metadata": {},
          "output_type": "execute_result"
        }
      ]
    },
    {
      "cell_type": "markdown",
      "metadata": {
        "id": "wbfz8SiAM0iv"
      },
      "source": [
        "Видим следующее. Например, клиент `customer_id = 0` купил 93 продукта, по крайней мере столько разновидностей продуктов (`product_id`).\n",
        "\n",
        "Другой пример, клиент `customer_id = 5878` (последняя строка в таблице выше ☝️) приобрел только один вид продукта. Теперь давай проведем аналогичный анализ, как указано выше. Для начала я помогу Тебе."
      ]
    },
    {
      "cell_type": "code",
      "metadata": {
        "id": "gcYjAGMgM0iw",
        "outputId": "9eb21b52-16a6-40ba-de31-71ef1ff86d6a"
      },
      "source": [
        "(\n",
        "    df_customer_products[ [\"most_revenue_customer\", \"count_unique_products\"] ]\n",
        "    .groupby(\"most_revenue_customer\")\n",
        "    .agg(['mean', 'min', 'max', 'median', 'std'])\n",
        ")"
      ],
      "execution_count": null,
      "outputs": [
        {
          "data": {
            "text/html": [
              "<div>\n",
              "<style scoped>\n",
              "    .dataframe tbody tr th:only-of-type {\n",
              "        vertical-align: middle;\n",
              "    }\n",
              "\n",
              "    .dataframe tbody tr th {\n",
              "        vertical-align: top;\n",
              "    }\n",
              "\n",
              "    .dataframe thead tr th {\n",
              "        text-align: left;\n",
              "    }\n",
              "\n",
              "    .dataframe thead tr:last-of-type th {\n",
              "        text-align: right;\n",
              "    }\n",
              "</style>\n",
              "<table border=\"1\" class=\"dataframe\">\n",
              "  <thead>\n",
              "    <tr>\n",
              "      <th></th>\n",
              "      <th colspan=\"5\" halign=\"left\">count_unique_products</th>\n",
              "    </tr>\n",
              "    <tr>\n",
              "      <th></th>\n",
              "      <th>mean</th>\n",
              "      <th>min</th>\n",
              "      <th>max</th>\n",
              "      <th>median</th>\n",
              "      <th>std</th>\n",
              "    </tr>\n",
              "    <tr>\n",
              "      <th>most_revenue_customer</th>\n",
              "      <th></th>\n",
              "      <th></th>\n",
              "      <th></th>\n",
              "      <th></th>\n",
              "      <th></th>\n",
              "    </tr>\n",
              "  </thead>\n",
              "  <tbody>\n",
              "    <tr>\n",
              "      <th>False</th>\n",
              "      <td>47.309330</td>\n",
              "      <td>1</td>\n",
              "      <td>408</td>\n",
              "      <td>32</td>\n",
              "      <td>49.811765</td>\n",
              "    </tr>\n",
              "    <tr>\n",
              "      <th>True</th>\n",
              "      <td>189.253776</td>\n",
              "      <td>1</td>\n",
              "      <td>2353</td>\n",
              "      <td>152</td>\n",
              "      <td>174.096217</td>\n",
              "    </tr>\n",
              "  </tbody>\n",
              "</table>\n",
              "</div>"
            ],
            "text/plain": [
              "                      count_unique_products                             \n",
              "                                       mean min   max median         std\n",
              "most_revenue_customer                                                   \n",
              "False                             47.309330   1   408     32   49.811765\n",
              "True                             189.253776   1  2353    152  174.096217"
            ]
          },
          "execution_count": 20,
          "metadata": {},
          "output_type": "execute_result"
        }
      ]
    },
    {
      "cell_type": "markdown",
      "metadata": {
        "id": "cy8iaqTPM0ix"
      },
      "source": [
        "## 🧠 Включим критическое мышление\n",
        "\n",
        "Подумай, что это значит? Сделай выводы и рассмотри (придумай гипотезы и как это можно перепроверить простым образом - лучше всего используя только те данные, которые у нас имеются)."
      ]
    },
    {
      "cell_type": "markdown",
      "metadata": {
        "id": "-5kVasErM0iz"
      },
      "source": [
        "## 🧠 Включим критическое мышление\n",
        "\n",
        "Так уж получилось, что время играет важную роль в нашей жизни. Если подумать, то очень важно учитывать время в графике. Представь, что с завтрашнего дня запретят понятие времени (во время «пандемии» даже это может «произойти» 😉), что тогда? Что это значит для Тебя?\n",
        "\n",
        "Время очень важно! От этого зависит большая часть нашей деятельности. В контексте этой задачи время сильно влияет на то, когда мы покупаем подарки - т.к. подарки (как правило) должны иметь повод.\n",
        "\n",
        "При случае, добавлю еще раз. По моему опыту, улавливание контекста критически важный навык при анализе данных. Время - один из ключевых контекстов, о котором всегда нужно помнить! Я покажу сейчас на простом примере, почему я так много внимания уделяю «времени»."
      ]
    },
    {
      "cell_type": "code",
      "metadata": {
        "id": "AYZ7nFmDM0iz",
        "outputId": "5eb3f857-e21f-4ef5-91ea-8d9a0580c1f6"
      },
      "source": [
        "df.index = df.order_date\n",
        "df[ ['price_total'] ].resample('m').agg(\"sum\").plot(title=\"Revenue per Month\");"
      ],
      "execution_count": null,
      "outputs": [
        {
          "data": {
            "image/png": "[encoded data removed]",
            "text/plain": [
              "<Figure size 864x360 with 1 Axes>"
            ]
          },
          "metadata": {},
          "output_type": "display_data"
        }
      ]
    },
    {
      "cell_type": "markdown",
      "metadata": {
        "id": "pW_u5ZEIM0i0"
      },
      "source": [
        "График показывает, что доход магазина очень сильно меняется в течение года. Фактически, можно даже показать месяцы, когда материализуется 80% доходов. Видны сезоны. Поздняя осень и начало зимы - самые привлекательные времена для продажи (в этом магазине).\n",
        "\n",
        "Несколько технических предложений.\n",
        "\n",
        "- Мы назначили `df.index = df.order_date` индексом даты, чтобы можно было использовать `resample`.\n",
        "- `resample('M')` это функция, которая облегчает жизнь при работе с временными рядами. Аналогичного эффекта можно добиться и с помощью `groupby`, но нам придется больше помучаться (а зачем?).\n",
        "- параметр `M` в `resample` означает `month`, т.е. собирать данные за месяц, можно также поставить `d` из `day` или даже `7d`, тогда это будет каждые 7 дней. Давай проверим :)"
      ]
    },
    {
      "cell_type": "code",
      "metadata": {
        "id": "MXFx40ZPM0i1",
        "outputId": "a0414eb1-62a0-4fd5-a351-85e4317a3d6f"
      },
      "source": [
        "df[ ['price_total'] ].resample('d').agg(\"sum\").plot(title=\"Revenue per Day\");"
      ],
      "execution_count": null,
      "outputs": [
        {
          "data": {
            "image/png": "[encoded data removed]",
            "text/plain": [
              "<Figure size 864x360 with 1 Axes>"
            ]
          },
          "metadata": {},
          "output_type": "display_data"
        }
      ]
    },
    {
      "cell_type": "code",
      "metadata": {
        "id": "NJhJ2t2KM0i1",
        "outputId": "ed584334-5089-4ee5-a1ec-75f3a29c9da4"
      },
      "source": [
        "df[ ['price_total'] ].resample('7d').agg(\"sum\").plot(title=\"Revenue per 7 Days\");"
      ],
      "execution_count": null,
      "outputs": [
        {
          "data": {
            "image/png": "[encoded data removed]",
            "text/plain": [
              "<Figure size 864x360 with 1 Axes>"
            ]
          },
          "metadata": {},
          "output_type": "display_data"
        }
      ]
    },
    {
      "cell_type": "markdown",
      "metadata": {
        "id": "l9ST-nqmM0i2"
      },
      "source": [
        "- `agg (\"sum\")` означает функцию суммы, но это может быть что-то еще, например, `max`,` min`, `median`,` std` или все сразу. Давай проверим.\n",
        "\n",
        "⌛️ Внимание - эта ячейка считается дольше!"
      ]
    },
    {
      "cell_type": "code",
      "metadata": {
        "id": "QDQNGE28M0i3",
        "outputId": "19ed9cee-8a9d-4c52-aeb4-9a5bbb4c2ca3"
      },
      "source": [
        "df[ ['price_total'] ].resample('1m').agg([\"mean\", \"median\", \"max\"]).plot(title=\"Revenue per 7 Days\");"
      ],
      "execution_count": null,
      "outputs": [
        {
          "data": {
            "image/png": "[encoded data removed]",
            "text/plain": [
              "<Figure size 864x360 with 1 Axes>"
            ]
          },
          "metadata": {},
          "output_type": "display_data"
        }
      ]
    },
    {
      "cell_type": "markdown",
      "metadata": {
        "id": "-48RYksjM0i4"
      },
      "source": [
        "Ты можешь видеть, что иногда `max` значительно выделяется. Звучит, как тема для обсуждения того, «почему» это происходит. Возможно, это какие-то аномалии."
      ]
    },
    {
      "cell_type": "markdown",
      "metadata": {
        "id": "NjqMZtfAM0i4"
      },
      "source": [
        "Переключаемся на заказы - `order_id`. Проверим количество заказов в месяц."
      ]
    },
    {
      "cell_type": "code",
      "metadata": {
        "id": "eSyp4QeSM0i5",
        "outputId": "3b09836b-1f3f-469a-aed5-cf0f11db1050"
      },
      "source": [
        "df[ ['order_id'] ].resample('1m').agg(lambda x: len(set(x)) ).plot(title=\"Count of Orders per Month\");"
      ],
      "execution_count": null,
      "outputs": [
        {
          "data": {
            "image/png": "[encoded data removed]",
            "text/plain": [
              "<Figure size 864x360 with 1 Axes>"
            ]
          },
          "metadata": {},
          "output_type": "display_data"
        }
      ]
    },
    {
      "cell_type": "markdown",
      "metadata": {
        "id": "fDXUVBADM0i5"
      },
      "source": [
        "Время подумать. Сделать выводы :)."
      ]
    }
  ]
}